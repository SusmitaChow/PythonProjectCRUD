{
  "nbformat": 4,
  "nbformat_minor": 0,
  "metadata": {
    "colab": {
      "provenance": []
    },
    "kernelspec": {
      "name": "python3",
      "display_name": "Python 3"
    },
    "language_info": {
      "name": "python"
    }
  },
  "cells": [
    {
      "cell_type": "code",
      "source": [
        "from google.colab import drive\n",
        "drive.mount('/content/drive')\n",
        "main_folder_address = '/content/data_folder'"
      ],
      "metadata": {
        "colab": {
          "base_uri": "https://localhost:8080/"
        },
        "id": "31dEgaHPWNUG",
        "outputId": "5fc1339c-2d82-4894-caee-9713504a614f"
      },
      "execution_count": 16,
      "outputs": [
        {
          "output_type": "stream",
          "name": "stdout",
          "text": [
            "Drive already mounted at /content/drive; to attempt to forcibly remount, call drive.mount(\"/content/drive\", force_remount=True).\n"
          ]
        }
      ]
    },
    {
      "cell_type": "code",
      "source": [
        "# For handling raw data files\n",
        "import io\n",
        "\n",
        "# For working with JSON files\n",
        "import json\n",
        "\n",
        "# For working with CSV files\n",
        "import csv\n",
        "\n",
        "# For printing Python data structures in an organized manner\n",
        "import pprint"
      ],
      "metadata": {
        "id": "7U6CSVVYJJX4"
      },
      "execution_count": 17,
      "outputs": []
    },
    {
      "cell_type": "code",
      "source": [
        "import os\n",
        "import json\n",
        "import csv\n",
        "\n",
        "def load_data(mainfolder):\n",
        "    # Set the main folder address\n",
        "    main_folder_address = mainfolder\n",
        "\n",
        "    # Initialize dictionaries\n",
        "    product_details = {}\n",
        "    sales_data = {}\n",
        "    product_descriptions = {}\n",
        "\n",
        "    # Function to load product details from JSON files\n",
        "    def load_product_details():\n",
        "        product_details_folder = os.path.join(main_folder_address, 'product_details')\n",
        "        for filename in os.listdir(product_details_folder):\n",
        "            if filename.endswith('.json'):\n",
        "                with open(os.path.join(product_details_folder, filename), 'r') as file:\n",
        "                    sku = os.path.splitext(filename)[0]  # Extract SKU from filename\n",
        "                    product_details[sku] = json.load(file)\n",
        "\n",
        "    # Function to load sales data from CSV file\n",
        "    def load_sales_data():\n",
        "        sales_data_file = os.path.join(main_folder_address, 'sales_data.csv')\n",
        "        with open(sales_data_file, 'r') as file:\n",
        "            reader = csv.DictReader(file)\n",
        "            for row in reader:\n",
        "                sku = row['SKU']\n",
        "                sales_data[sku] = [int(row[f'Day_{i+1}']) for i in range(14)]\n",
        "\n",
        "    # Function to load product descriptions from TXT files\n",
        "    def load_product_descriptions():\n",
        "        product_descriptions_folder = os.path.join(main_folder_address, 'product_descriptions')\n",
        "        for filename in os.listdir(product_descriptions_folder):\n",
        "            if filename.endswith('.txt'):\n",
        "                with open(os.path.join(product_descriptions_folder, filename), 'r') as file:\n",
        "                    sku = os.path.splitext(filename)[0]  # Extract SKU from filename\n",
        "                    product_descriptions[sku] = file.read()\n",
        "\n",
        "    # Call the functions to load data\n",
        "    load_product_details()\n",
        "    load_sales_data()\n",
        "    load_product_descriptions()\n",
        "\n",
        "    # Return the dictionaries as a tuple\n",
        "    return product_details, sales_data, product_descriptions\n"
      ],
      "metadata": {
        "id": "SGFzs94AJgXK"
      },
      "execution_count": 19,
      "outputs": []
    },
    {
      "cell_type": "code",
      "source": [
        "!unzip '/content/drive/MyDrive/File_Handler_Project/filehandler_data.zip' -d '/content/drive/MyDrive/File_Handler_Project/'"
      ],
      "metadata": {
        "colab": {
          "base_uri": "https://localhost:8080/"
        },
        "id": "5Y2X_vG4LNzc",
        "outputId": "43da9237-2f87-48b3-b82c-e1bfa2993b9c"
      },
      "execution_count": 43,
      "outputs": [
        {
          "output_type": "stream",
          "name": "stdout",
          "text": [
            "unzip:  cannot find or open /content/drive/MyDrive/File_Handler_Project/filehandler_data.zip, /content/drive/MyDrive/File_Handler_Project/filehandler_data.zip.zip or /content/drive/MyDrive/File_Handler_Project/filehandler_data.zip.ZIP.\n"
          ]
        }
      ]
    },
    {
      "cell_type": "code",
      "source": [
        "import os\n",
        "import json\n",
        "import csv\n",
        "\n",
        "def load_data(main_folder):\n",
        "    # Initialize dictionaries\n",
        "    product_details = {}\n",
        "    sales_data = {}\n",
        "    product_descriptions = {}\n",
        "\n",
        "    # Function to load product details from JSON files\n",
        "    def load_product_details():\n",
        "        product_details_folder = os.path.join(main_folder, 'product_details')\n",
        "        for filename in os.listdir(product_details_folder):\n",
        "            if filename.endswith('.json'):\n",
        "                with open(os.path.join(product_details_folder, filename), 'r') as file:\n",
        "                    sku = os.path.splitext(filename)[0]  # Extract SKU from filename\n",
        "                    product_details[sku] = json.load(file)\n",
        "\n",
        "    # Function to load sales data from CSV file\n",
        "    def load_sales_data():\n",
        "        sales_data_file = os.path.join(main_folder, 'sales_data.csv')\n",
        "        with open(sales_data_file, 'r') as file:\n",
        "            reader = csv.DictReader(file)\n",
        "            for row in reader:\n",
        "                sku = row['SKU']\n",
        "                sales_data[sku] = [int(row[f'Day_{i+1}']) for i in range(14)]\n",
        "\n",
        "    # Function to load product descriptions from TXT files\n",
        "    def load_product_descriptions():\n",
        "        product_descriptions_folder = os.path.join(main_folder, 'product_descriptions')\n",
        "        for filename in os.listdir(product_descriptions_folder):\n",
        "            if filename.endswith('.txt'):\n",
        "                with open(os.path.join(product_descriptions_folder, filename), 'r') as file:\n",
        "                    sku = os.path.splitext(filename)[0]  # Extract SKU from filename\n",
        "                    product_descriptions[sku] = file.read()\n",
        "\n",
        "    # Call the functions to load data\n",
        "    load_product_details()\n",
        "    load_sales_data()\n",
        "    load_product_descriptions()\n",
        "\n",
        "    # Return the dictionaries as a tuple\n",
        "    return product_details, sales_data, product_descriptions"
      ],
      "metadata": {
        "id": "9uVzrUdpKC4Q"
      },
      "execution_count": 26,
      "outputs": []
    },
    {
      "cell_type": "code",
      "source": [
        "sales_data = {}\n",
        "product_details = {}\n",
        "product_descriptions = {}\n",
        "\n",
        "# Display information about all products\n",
        "print(\"Sales Data for All Products:\")\n",
        "for sku, quantities in sales_data.items():\n",
        "    print(f\"SKU: {sku}, Quantities: {quantities}\")\n",
        "\n",
        "print(\"\\nProduct Details for All Products:\")\n",
        "for sku, details in product_details.items():\n",
        "    print(f\"SKU: {sku}, Details: {details}\")\n",
        "\n",
        "print(\"\\nProduct Descriptions for All Products:\")\n",
        "for sku, description in product_descriptions.items():\n",
        "    print(f\"SKU: {sku}, Description: {description}\")\n",
        "\n",
        "product_skus = list(product_details.keys())\n",
        "\n",
        "# Check if product_skus is not empty before accessing an element\n",
        "if product_skus:\n",
        "    # Display information about a specific product using its SKU (assuming the SKU exists in the data)\n",
        "    specific_sku = product_skus[0]  # Change to the desired SKU\n",
        "    print(f\"\\nSales Data for Product with SKU {specific_sku}: {sales_data.get(specific_sku, 'Product not found')}\")\n",
        "    print(f\"\\nProduct Details for Product with SKU {specific_sku}: {product_details.get(specific_sku, 'Product not found')}\")\n",
        "    print(f\"\\nProduct Description for Product with SKU {specific_sku}: {product_descriptions.get(specific_sku, 'Product not found')}\")\n",
        "else:\n",
        "    print(\"product_skus list is empty. No specific SKU to display.\")\n",
        "# Print the length of sales_data, product_details, and product_descriptions\n",
        "print(\"\\nLength of Sales Data:\", len(sales_data))\n",
        "print(\"Length of Product Details:\", len(product_details))\n",
        "print(\"Length of Product Descriptions:\", len(product_descriptions))"
      ],
      "metadata": {
        "colab": {
          "base_uri": "https://localhost:8080/"
        },
        "id": "uuXH8NgHMLJP",
        "outputId": "5da38bfd-7f6e-4974-d617-f1e0b648b264"
      },
      "execution_count": 38,
      "outputs": [
        {
          "output_type": "stream",
          "name": "stdout",
          "text": [
            "Sales Data for All Products:\n",
            "\n",
            "Product Details for All Products:\n",
            "\n",
            "Product Descriptions for All Products:\n",
            "product_skus list is empty. No specific SKU to display.\n",
            "\n",
            "Length of Sales Data: 0\n",
            "Length of Product Details: 0\n",
            "Length of Product Descriptions: 0\n"
          ]
        }
      ]
    },
    {
      "cell_type": "code",
      "source": [
        "def add_sales_data(sales_data, sku, quantities):\n",
        "  sales_data[sku] = quantities\n",
        "  return sales_data"
      ],
      "metadata": {
        "id": "X0HbNqBr_YiJ"
      },
      "execution_count": 39,
      "outputs": []
    },
    {
      "cell_type": "code",
      "source": [
        "def add_product_details(product_details, sku, product_info):\n",
        "    # Update the product_details dictionary with the new product information\n",
        "    product_details[sku] = product_info\n",
        "\n",
        "    return product_details\n"
      ],
      "metadata": {
        "id": "598TUrmyXQKI"
      },
      "execution_count": 40,
      "outputs": []
    },
    {
      "cell_type": "code",
      "source": [
        "def add_product_description(product_descriptions, sku, description):\n",
        "    # Update the product_descriptions dictionary with the new product description\n",
        "    product_descriptions[sku] = description\n",
        "\n",
        "    return product_descriptions\n"
      ],
      "metadata": {
        "id": "4YtYNxUc6srd"
      },
      "execution_count": 3,
      "outputs": []
    },
    {
      "cell_type": "code",
      "source": [
        "def create(product_details, sales_data, product_descriptions):\n",
        "\n",
        "    # Prompt user for SKU\n",
        "    sku = input(\"Enter SKU (must be exactly 13 characters long): \")\n",
        "    if len(sku) != 13:\n",
        "        print(\"Error: SKU must be exactly 13 characters long.\")\n",
        "        return product_details, sales_data, product_descriptions\n",
        "\n",
        "    # Prompt user for sales data\n",
        "    try:\n",
        "        quantities = [int(q) for q in input(\"Enter sales data for the last 14 days (14 integers): \").split()]\n",
        "        if len(quantities) != 14:\n",
        "            raise ValueError\n",
        "    except ValueError:\n",
        "        print(\"Error: Sales data must consist of exactly 14 integers.\")\n",
        "        return product_details, sales_data, product_descriptions\n",
        "\n",
        "    # Prompt user for product details\n",
        "    name = input(\"Enter product name: \")\n",
        "    brand = input(\"Enter product brand: \")\n",
        "    model = input(\"Enter product model: \")\n",
        "    specifications = input(\"Enter product specifications: \")\n",
        "    price = input(\"Enter product price: \")\n",
        "    availability = input(\"Enter product availability: \")\n",
        "\n",
        "    # Prompt user for product description\n",
        "    description = input(\"Enter product description: \")\n",
        "\n",
        "   # Update dictionaries with new product information\n",
        "    product_details[sku] = {\n",
        "        \"name\": name,\n",
        "        \"brand\": brand,\n",
        "        \"model\": model,\n",
        "        \"specifications\": specifications,\n",
        "        \"price\": price,\n",
        "        \"availability\": availability,\n",
        "    }\n",
        "    sales_data[sku] = quantities\n",
        "    product_descriptions[sku] = description\n",
        "\n",
        "    print(\"Product successfully added!\")\n",
        "\n",
        "    return product_details, sales_data, product_descriptions\n"
      ],
      "metadata": {
        "id": "4FjZZj3H7DYq"
      },
      "execution_count": 5,
      "outputs": []
    },
    {
      "cell_type": "code",
      "source": [
        "def display_sales_data(sales_data, sku):\n",
        "\n",
        "    if sku in sales_data:\n",
        "        print(f\"Sales Data for Product SKU {sku}:\")\n",
        "        for day, quantity in enumerate(sales_data[sku], start=1):\n",
        "            print(f\"Day {day}: {quantity} units\")\n",
        "    else:\n",
        "        print(f\"No sales data found for Product SKU {sku}\")\n",
        "\n"
      ],
      "metadata": {
        "id": "zA88LQ6H7mmV"
      },
      "execution_count": 6,
      "outputs": []
    },
    {
      "cell_type": "code",
      "source": [
        "def display_product_details(product_details, sku):\n",
        "\n",
        "    if sku in product_details:\n",
        "        details = product_details[sku]\n",
        "        print(f\"Product Details for SKU {sku}:\")\n",
        "        print(f\"Name: {details.get('name')}\")\n",
        "        print(f\"Brand: {details.get('brand')}\")\n",
        "        print(f\"Model: {details.get('model')}\")\n",
        "        print(f\"Specifications: {details.get('specifications')}\")\n",
        "        print(f\"Price: {details.get('price')}\")\n",
        "        print(f\"Availability: {details.get('availability')}\")\n",
        "    else:\n",
        "        print(f\"Product with SKU {sku} not found in product details.\")"
      ],
      "metadata": {
        "id": "RCv0ooSt_2WZ"
      },
      "execution_count": 7,
      "outputs": []
    },
    {
      "cell_type": "code",
      "source": [
        "import pprint\n",
        "def display_product_descriptions(product_descriptions, sku):\n",
        "\n",
        "    if sku in product_descriptions:\n",
        "        description = product_descriptions[sku]\n",
        "        print(f\"Product Description for SKU {sku}:\")\n",
        "        print(description)\n",
        "    else:\n",
        "        print(f\"Product with SKU {sku} not found in product descriptions.\")"
      ],
      "metadata": {
        "id": "afB76Gp_AgRv"
      },
      "execution_count": 42,
      "outputs": []
    },
    {
      "cell_type": "code",
      "source": [
        "def read(sales_data, product_details, product_descriptions):\n",
        "    # Prompt user to input the SKU\n",
        "    sku = input(\"Enter the SKU of the product you want to inquire about: \")\n",
        "\n",
        "    # Check if SKU exists in any dictionary\n",
        "    if sku not in sales_data and sku not in product_details and sku not in product_descriptions:\n",
        "        print(f\"Product with SKU {sku} not found.\")\n",
        "        return\n",
        "\n",
        "    # Display sales data\n",
        "    display_sales_data(sales_data, sku)\n",
        "\n",
        "    # Display product details\n",
        "    display_product_details(product_details, sku)\n",
        "\n",
        "    # Display product descriptions\n",
        "    display_product_descriptions(product_descriptions, sku)"
      ],
      "metadata": {
        "id": "trxcfYriBGKz"
      },
      "execution_count": 9,
      "outputs": []
    },
    {
      "cell_type": "code",
      "source": [
        "def update_sales_data(sales_data, sku, quantities):\n",
        "    # Update sales data for the given SKU\n",
        "    sales_data[sku] = quantities\n",
        "\n",
        "    # Return the updated sales data\n",
        "    return sales_data"
      ],
      "metadata": {
        "id": "EzTm3ASHBs6E"
      },
      "execution_count": 10,
      "outputs": []
    },
    {
      "cell_type": "code",
      "source": [
        "def update_product_details(product_details, sku, updated_details):\n",
        "    # Update product details for the given SKU\n",
        "    product_details[sku] = updated_details\n",
        "\n",
        "    # Return the updated product details\n",
        "    return product_details"
      ],
      "metadata": {
        "id": "1QFCT-VoCQCH"
      },
      "execution_count": 11,
      "outputs": []
    },
    {
      "cell_type": "code",
      "source": [
        "def update_product_description(product_descriptions, sku, updated_description):\n",
        "    # Update product description for the given SKU\n",
        "    product_descriptions[sku] = updated_description\n",
        "\n",
        "    # Return the updated product descriptions\n",
        "    return product_descriptions"
      ],
      "metadata": {
        "id": "_GISkSh2C4a0"
      },
      "execution_count": 12,
      "outputs": []
    },
    {
      "cell_type": "code",
      "source": [
        "def update(product_details, sales_data, product_descriptions):\n",
        "    # Prompt user to enter SKU\n",
        "    sku = input(\"Enter the SKU of the product to update: \")\n",
        "\n",
        "    # Check if SKU exists in product_details\n",
        "    if sku not in product_details:\n",
        "        print(\"SKU not found. Exiting update process.\")\n",
        "        return product_details, sales_data, product_descriptions\n",
        "\n",
        "    while True:\n",
        "        # Display menu\n",
        "        print(\"\\nMenu:\")\n",
        "        print(\"1. Update Sales Data\")\n",
        "        print(\"2. Update Product Details\")\n",
        "        print(\"3. Update Product Description\")\n",
        "        print(\"4. Exit\")\n",
        "\n",
        "        # Get user choice\n",
        "        choice = input(\"Enter your choice (1-4): \")\n",
        "\n",
        "        # Perform actions based on user choice\n",
        "        if choice == \"1\":\n",
        "            # Update Sales Data\n",
        "            quantities = input(\"Enter new sales quantities for the last 14 days (comma-separated integers): \")\n",
        "            try:\n",
        "                quantities = [int(qty) for qty in quantities.split(',')]\n",
        "                if len(quantities) != 14:\n",
        "                    raise ValueError(\"Invalid number of quantities. Please enter exactly 14 integers.\")\n",
        "                # Update sales data\n",
        "                sales_data[sku] = quantities\n",
        "                print(\"Sales Data updated successfully.\")\n",
        "            except ValueError as e:\n",
        "                print(f\"Error: {e}. Please enter valid quantities.\")\n",
        "\n",
        "        elif choice == \"2\":\n",
        "            # Update Product Details\n",
        "            updated_details = {\n",
        "                'name': input(\"Enter updated product name: \"),\n",
        "                'brand': input(\"Enter updated product brand: \"),\n",
        "                'model': input(\"Enter updated product model: \"),\n",
        "                'specifications': input(\"Enter updated product specifications: \"),\n",
        "                'price': input(\"Enter updated product price: \"),\n",
        "                'availability': input(\"Enter updated product availability: \")\n",
        "            }\n",
        "            # Update product details\n",
        "            product_details[sku] = updated_details\n",
        "            print(\"Product Details updated successfully.\")\n",
        "\n",
        "        elif choice == \"3\":\n",
        "            # Update Product Description\n",
        "            updated_description = input(\"Enter updated product description: \")\n",
        "            # Update product description\n",
        "            product_descriptions[sku] = updated_description\n",
        "            print(\"Product Description updated successfully.\")\n",
        "\n",
        "        elif choice == \"4\":\n",
        "            # Exit update process\n",
        "            print(\"Exiting update process.\")\n",
        "            break\n",
        "\n",
        "        else:\n",
        "            print(\"Invalid choice. Please enter a valid option.\")\n",
        "\n",
        "    return product_details, sales_data, product_descriptions"
      ],
      "metadata": {
        "id": "Tuj1WTaMDZfT"
      },
      "execution_count": 13,
      "outputs": []
    },
    {
      "cell_type": "code",
      "source": [
        "import os\n",
        "\n",
        "def delete(sales_data, product_details, product_descriptions, main_folder):\n",
        "    # Prompt user to enter SKU\n",
        "    sku = input(\"Enter the SKU of the product to delete: \")\n",
        "\n",
        "    # Check if SKU exists in sales_data\n",
        "    if sku not in sales_data:\n",
        "        print(\"SKU not found. Exiting delete process.\")\n",
        "        return sales_data, product_details, product_descriptions\n",
        "\n",
        "    # Delete entries from dictionaries\n",
        "    del sales_data[sku]\n",
        "    del product_details[sku]\n",
        "    del product_descriptions[sku]\n",
        "\n",
        "    # Construct file paths\n",
        "    details_file_path = os.path.join(main_folder, \"product_details\", f\"{sku}.json\")\n",
        "    descriptions_file_path = os.path.join(main_folder, \"product_descriptions\", f\"{sku}.txt\")\n",
        "\n",
        "    # Attempt to delete JSON file\n",
        "    try:\n",
        "        os.remove(details_file_path)\n",
        "        print(f\"Product details file ({sku}.json) deleted successfully.\")\n",
        "    except FileNotFoundError:\n",
        "        print(f\"Product details file ({sku}.json) not found.\")\n",
        "\n",
        "    # Attempt to delete text file\n",
        "    try:\n",
        "        os.remove(descriptions_file_path)\n",
        "        print(f\"Product descriptions file ({sku}.txt) deleted successfully.\")\n",
        "    except FileNotFoundError:\n",
        "        print(f\"Product descriptions file ({sku}.txt) not found.\")\n",
        "\n",
        "    print(\"Entries deleted successfully.\")\n",
        "\n",
        "    return sales_data, product_details, product_descriptions"
      ],
      "metadata": {
        "id": "r_gtW4wDFFM1"
      },
      "execution_count": 14,
      "outputs": []
    },
    {
      "cell_type": "code",
      "source": [
        "import csv\n",
        "import json\n",
        "import os\n",
        "\n",
        "def dump_data(sales_data, product_details, product_descriptions, main_folder):\n",
        "    # Dump sales data to CSV\n",
        "    csv_file_path = os.path.join(main_folder, \"sales_data.csv\")\n",
        "    with open(csv_file_path, mode='w', newline='') as csv_file:\n",
        "        fieldnames = ['SKU'] + [f'Day_{i}' for i in range(1, 15)]\n",
        "        writer = csv.DictWriter(csv_file, fieldnames=fieldnames)\n",
        "\n",
        "        # Write header\n",
        "        writer.writeheader()\n",
        "\n",
        "        # Write data\n",
        "        for sku, quantities in sales_data.items():\n",
        "            writer.writerow({'SKU': sku, **{f'Day_{i}': qty for i, qty in enumerate(quantities, start=1)}})\n",
        "\n",
        "    print(f\"Sales data dumped to {csv_file_path}\")\n",
        "\n",
        "    # Dump product details to JSON files\n",
        "    details_folder = os.path.join(main_folder, \"product_details\")\n",
        "    os.makedirs(details_folder, exist_ok=True)\n",
        "\n",
        "    for sku, details in product_details.items():\n",
        "        details_file_path = os.path.join(details_folder, f\"{sku}.json\")\n",
        "        with open(details_file_path, 'w') as json_file:\n",
        "            json.dump(details, json_file, indent=4)\n",
        "\n",
        "    print(f\"Product details dumped to {details_folder}\")\n",
        "\n",
        "    # Dump product descriptions to TXT files\n",
        "    descriptions_folder = os.path.join(main_folder, \"product_descriptions\")\n",
        "    os.makedirs(descriptions_folder, exist_ok=True)\n",
        "\n",
        "    for sku, description in product_descriptions.items():\n",
        "        descriptions_file_path = os.path.join(descriptions_folder, f\"{sku}.txt\")\n",
        "        with open(descriptions_file_path, 'w') as txt_file:\n",
        "            txt_file.write(description)\n",
        "\n",
        "    print(f\"Product descriptions dumped to {descriptions_folder}\")"
      ],
      "metadata": {
        "id": "m0hmyY9xGYTp"
      },
      "execution_count": 15,
      "outputs": []
    },
    {
      "cell_type": "code",
      "source": [
        "def user_menu(main_folder):\n",
        "\n",
        "    while True:\n",
        "        print(\"\\n----- Product Data Management Menu -----\")\n",
        "        print(\"1. Create New Product\")\n",
        "        print(\"2. Read Product Data\")\n",
        "        print(\"3. Update Product Data\")\n",
        "        print(\"4. Delete Product Data\")\n",
        "        print(\"5. Exit\")\n",
        "\n",
        "        choice = input(\"Enter your choice (1-5): \")\n",
        "\n",
        "        if choice == '1':\n",
        "            product_details, sales_data, product_descriptions = load_data(main_folder)\n",
        "            product_details, sales_data, product_descriptions = create(product_details, sales_data, product_descriptions)\n",
        "        elif choice == '2':\n",
        "            product_details, sales_data, product_descriptions = load_data(main_folder)\n",
        "            read(product_details, sales_data, product_descriptions)\n",
        "        elif choice == '3':\n",
        "            product_details, sales_data, product_descriptions = load_data(main_folder)\n",
        "            product_details, sales_data, product_descriptions = update(product_details, sales_data, product_descriptions)\n",
        "        elif choice == '4':\n",
        "            product_details, sales_data, product_descriptions = load_data(main_folder)\n",
        "            product_details, sales_data, product_descriptions = delete(product_details, sales_data, product_descriptions, main_folder)\n",
        "        elif choice == '5':\n",
        "            dump_data(sales_data, product_details, product_descriptions, main_folder)\n",
        "            print(\"Exiting the program. Data has been saved.\")\n",
        "            break\n",
        "        else:\n",
        "            print(\"Invalid choice. Please enter a number between 1 and 5.\")"
      ],
      "metadata": {
        "id": "KkqgnABLGeZo"
      },
      "execution_count": 41,
      "outputs": []
    }
  ]
}